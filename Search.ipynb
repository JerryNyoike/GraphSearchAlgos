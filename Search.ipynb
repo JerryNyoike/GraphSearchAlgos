{
 "cells": [
  {
   "cell_type": "code",
   "execution_count": 8,
   "id": "5ca224e5-b631-49d3-a620-87cc69ee49d3",
   "metadata": {
    "tags": []
   },
   "outputs": [],
   "source": [
    "import folium\n",
    "from geopy import distance, Nominatim\n",
    "import ipywidgets as widgets\n",
    "\n",
    "from Graph import Graph\n",
    "from Vertex import Vertex\n",
    "from search import a_star_search, breadth_first_search, depth_first_search, reconstruct_path\n",
    "\n",
    "# Define the geocoder and add markers for our towns\n",
    "geocoder = Nominatim(user_agent=\"search\")\n",
    "_, kenya = geocoder.geocode(\"Kenya\")\n",
    "kenya = list(kenya)\n",
    "general_map = folium.Map(location=kenya, zoom_start=6)\n",
    "\n",
    "start_town = ['Kisumu', 'Eldoret', 'Nakuru', 'Nairobi', 'Thika', 'Mombasa']\n",
    "goal_town = ['Kisumu', 'Eldoret', 'Nakuru', 'Nairobi', 'Thika', 'Mombasa']\n",
    "algorithms = ['Breadth First Search', 'Depth First Search', 'A* Search']\n",
    "\n",
    "# store locations to avoid multiple network calls\n",
    "town_locations = dict()\n",
    "\n",
    "for town in start_town:\n",
    "    _, loc = geocoder.geocode(\"{}, Kenya\".format(town))\n",
    "    loc = list(loc)\n",
    "    town_locations[town] = loc\n",
    "    folium.Marker(\n",
    "        location = loc,\n",
    "        popup = town,\n",
    "        icon=folium.Icon(color=\"blue\")\n",
    "    ).add_to(general_map)\n",
    "    \n",
    "general_map\n",
    "\n",
    "def visualize(path, map_to_draw_on=general_map):\n",
    "    points = list(map(lambda n: town_locations[n], path))\n",
    "    folium.PolyLine(points).add_to(map_to_draw_on)\n",
    "        "
   ]
  },
  {
   "cell_type": "code",
   "execution_count": 2,
   "id": "3c41cab3-ba1b-46a0-b39d-33edb7e9b1cb",
   "metadata": {},
   "outputs": [
    {
     "data": {
      "application/vnd.jupyter.widget-view+json": {
       "model_id": "0ea892d52b3f4492a40e23ce88ccfc1e",
       "version_major": 2,
       "version_minor": 0
      },
      "text/plain": [
       "Dropdown(description='Start town:', options=('Kisumu', 'Eldoret', 'Nakuru', 'Nairobi', 'Thika', 'Mombasa'), va…"
      ]
     },
     "metadata": {},
     "output_type": "display_data"
    },
    {
     "data": {
      "application/vnd.jupyter.widget-view+json": {
       "model_id": "1ce74de20efe4fe39d16d4549813ecfb",
       "version_major": 2,
       "version_minor": 0
      },
      "text/plain": [
       "Dropdown(description='Goal town:', index=5, options=('Kisumu', 'Eldoret', 'Nakuru', 'Nairobi', 'Thika', 'Momba…"
      ]
     },
     "metadata": {},
     "output_type": "display_data"
    },
    {
     "data": {
      "application/vnd.jupyter.widget-view+json": {
       "model_id": "769e2094367441f9b24e02deb24e78d2",
       "version_major": 2,
       "version_minor": 0
      },
      "text/plain": [
       "Dropdown(description='Algorithm', options=('Breadth First Search', 'Depth First Search', 'A* Search'), value='…"
      ]
     },
     "metadata": {},
     "output_type": "display_data"
    }
   ],
   "source": [
    "start_dropdown = widgets.Dropdown(options=start_town, description=\"Start town:\", value=\"Kisumu\")\n",
    "goal_dropdown = widgets.Dropdown(options=start_town, description=\"Goal town:\", value=\"Mombasa\")\n",
    "algorithm_dropdown = widgets.Dropdown(options=algorithms, description=\"Algorithm\", value=\"Breadth First Search\")\n",
    "\n",
    "display(start_dropdown, goal_dropdown, algorithm_dropdown)"
   ]
  },
  {
   "cell_type": "code",
   "execution_count": 9,
   "id": "4f86da66-299b-4a9f-a398-844e1fbc12d5",
   "metadata": {},
   "outputs": [
    {
     "name": "stdout",
     "output_type": "stream",
     "text": [
      "A* Search\n",
      "Kisumu\n",
      "Thika\n"
     ]
    }
   ],
   "source": [
    "start = start_dropdown.value\n",
    "goal = goal_dropdown.value\n",
    "algo = algorithm_dropdown.value\n",
    "print(algo)\n",
    "print(goal)\n",
    "print(start)"
   ]
  },
  {
   "cell_type": "code",
   "execution_count": 4,
   "id": "6f7fb4af-c621-4d3e-ab20-dc5d55aa2a01",
   "metadata": {},
   "outputs": [],
   "source": [
    "# Make a directed Graph of 5 towns Kisumu, Eldoret, Nakuru, Thika, Nairobi and Mombasa]\n",
    "# Our goal is to find the shortest path from Kisumu to Nairobi through the Towns\n",
    "kisumu = Vertex('Kisumu')\n",
    "eldoret = Vertex('Eldoret')\n",
    "nakuru = Vertex('Nakuru')\n",
    "thika = Vertex('Thika')\n",
    "mombasa = Vertex('Mombasa')\n",
    "nairobi = Vertex('Nairobi')"
   ]
  },
  {
   "cell_type": "code",
   "execution_count": 5,
   "id": "42b2bc87-9fe1-414a-aec3-57581e13e915",
   "metadata": {},
   "outputs": [],
   "source": [
    "graph = Graph()\n",
    "graph.addVertex(kisumu)\n",
    "graph.addVertex(nairobi)\n",
    "graph.addVertex(eldoret)\n",
    "graph.addVertex(nakuru)\n",
    "graph.addVertex(thika)\n",
    "graph.addVertex(mombasa)"
   ]
  },
  {
   "cell_type": "code",
   "execution_count": 6,
   "id": "422523ac-5036-4225-a055-9b329f44b836",
   "metadata": {},
   "outputs": [],
   "source": [
    "# create a directed edge\n",
    "graph.addDirectedEdge(kisumu, eldoret)\n",
    "graph.addDirectedEdge(eldoret, kisumu)\n",
    "graph.addDirectedEdge(kisumu, nakuru)\n",
    "graph.addDirectedEdge(nakuru, kisumu)\n",
    "graph.addDirectedEdge(eldoret, nakuru)\n",
    "graph.addDirectedEdge(nakuru, eldoret)\n",
    "graph.addDirectedEdge(eldoret, nairobi)\n",
    "graph.addDirectedEdge(nairobi, eldoret)\n",
    "graph.addDirectedEdge(nakuru, thika)\n",
    "graph.addDirectedEdge(thika, nakuru)\n",
    "graph.addDirectedEdge(nakuru, nairobi)\n",
    "graph.addDirectedEdge(nairobi, nakuru)\n",
    "graph.addDirectedEdge(nairobi, thika)\n",
    "graph.addDirectedEdge(thika, nairobi)\n",
    "graph.addDirectedEdge(nairobi, mombasa)\n",
    "graph.addDirectedEdge(mombasa, nairobi)\n",
    "graph.addDirectedEdge(thika, mombasa)\n",
    "graph.addDirectedEdge(mombasa, thika)"
   ]
  },
  {
   "cell_type": "code",
   "execution_count": 11,
   "id": "c2e46ff9-7b16-4401-89a6-453be15a98ed",
   "metadata": {},
   "outputs": [
    {
     "name": "stdout",
     "output_type": "stream",
     "text": [
      "{'Thika': None, 'Nakuru': 'Thika', 'Nairobi': 'Thika', 'Mombasa': 'Thika', 'Kisumu': 'Nakuru', 'Eldoret': 'Nakuru'}\n",
      "['Thika', 'Nakuru', 'Kisumu']\n"
     ]
    },
    {
     "data": {
      "text/html": [
       "<div style=\"width:100%;\"><div style=\"position:relative;width:100%;height:0;padding-bottom:60%;\"><span style=\"color:#565656\">Make this Notebook Trusted to load map: File -> Trust Notebook</span><iframe src=\"about:blank\" style=\"position:absolute;width:100%;height:100%;left:0;top:0;border:none !important;\" data-html=%3C%21DOCTYPE%20html%3E%0A%3Chead%3E%20%20%20%20%0A%20%20%20%20%3Cmeta%20http-equiv%3D%22content-type%22%20content%3D%22text/html%3B%20charset%3DUTF-8%22%20/%3E%0A%20%20%20%20%0A%20%20%20%20%20%20%20%20%3Cscript%3E%0A%20%20%20%20%20%20%20%20%20%20%20%20L_NO_TOUCH%20%3D%20false%3B%0A%20%20%20%20%20%20%20%20%20%20%20%20L_DISABLE_3D%20%3D%20false%3B%0A%20%20%20%20%20%20%20%20%3C/script%3E%0A%20%20%20%20%0A%20%20%20%20%3Cstyle%3Ehtml%2C%20body%20%7Bwidth%3A%20100%25%3Bheight%3A%20100%25%3Bmargin%3A%200%3Bpadding%3A%200%3B%7D%3C/style%3E%0A%20%20%20%20%3Cstyle%3E%23map%20%7Bposition%3Aabsolute%3Btop%3A0%3Bbottom%3A0%3Bright%3A0%3Bleft%3A0%3B%7D%3C/style%3E%0A%20%20%20%20%3Cscript%20src%3D%22https%3A//cdn.jsdelivr.net/npm/leaflet%401.6.0/dist/leaflet.js%22%3E%3C/script%3E%0A%20%20%20%20%3Cscript%20src%3D%22https%3A//code.jquery.com/jquery-1.12.4.min.js%22%3E%3C/script%3E%0A%20%20%20%20%3Cscript%20src%3D%22https%3A//maxcdn.bootstrapcdn.com/bootstrap/3.2.0/js/bootstrap.min.js%22%3E%3C/script%3E%0A%20%20%20%20%3Cscript%20src%3D%22https%3A//cdnjs.cloudflare.com/ajax/libs/Leaflet.awesome-markers/2.0.2/leaflet.awesome-markers.js%22%3E%3C/script%3E%0A%20%20%20%20%3Clink%20rel%3D%22stylesheet%22%20href%3D%22https%3A//cdn.jsdelivr.net/npm/leaflet%401.6.0/dist/leaflet.css%22/%3E%0A%20%20%20%20%3Clink%20rel%3D%22stylesheet%22%20href%3D%22https%3A//maxcdn.bootstrapcdn.com/bootstrap/3.2.0/css/bootstrap.min.css%22/%3E%0A%20%20%20%20%3Clink%20rel%3D%22stylesheet%22%20href%3D%22https%3A//maxcdn.bootstrapcdn.com/bootstrap/3.2.0/css/bootstrap-theme.min.css%22/%3E%0A%20%20%20%20%3Clink%20rel%3D%22stylesheet%22%20href%3D%22https%3A//maxcdn.bootstrapcdn.com/font-awesome/4.6.3/css/font-awesome.min.css%22/%3E%0A%20%20%20%20%3Clink%20rel%3D%22stylesheet%22%20href%3D%22https%3A//cdnjs.cloudflare.com/ajax/libs/Leaflet.awesome-markers/2.0.2/leaflet.awesome-markers.css%22/%3E%0A%20%20%20%20%3Clink%20rel%3D%22stylesheet%22%20href%3D%22https%3A//cdn.jsdelivr.net/gh/python-visualization/folium/folium/templates/leaflet.awesome.rotate.min.css%22/%3E%0A%20%20%20%20%0A%20%20%20%20%20%20%20%20%20%20%20%20%3Cmeta%20name%3D%22viewport%22%20content%3D%22width%3Ddevice-width%2C%0A%20%20%20%20%20%20%20%20%20%20%20%20%20%20%20%20initial-scale%3D1.0%2C%20maximum-scale%3D1.0%2C%20user-scalable%3Dno%22%20/%3E%0A%20%20%20%20%20%20%20%20%20%20%20%20%3Cstyle%3E%0A%20%20%20%20%20%20%20%20%20%20%20%20%20%20%20%20%23map_e490de6117814b52a49bea036b562a55%20%7B%0A%20%20%20%20%20%20%20%20%20%20%20%20%20%20%20%20%20%20%20%20position%3A%20relative%3B%0A%20%20%20%20%20%20%20%20%20%20%20%20%20%20%20%20%20%20%20%20width%3A%20100.0%25%3B%0A%20%20%20%20%20%20%20%20%20%20%20%20%20%20%20%20%20%20%20%20height%3A%20100.0%25%3B%0A%20%20%20%20%20%20%20%20%20%20%20%20%20%20%20%20%20%20%20%20left%3A%200.0%25%3B%0A%20%20%20%20%20%20%20%20%20%20%20%20%20%20%20%20%20%20%20%20top%3A%200.0%25%3B%0A%20%20%20%20%20%20%20%20%20%20%20%20%20%20%20%20%7D%0A%20%20%20%20%20%20%20%20%20%20%20%20%3C/style%3E%0A%20%20%20%20%20%20%20%20%0A%3C/head%3E%0A%3Cbody%3E%20%20%20%20%0A%20%20%20%20%0A%20%20%20%20%20%20%20%20%20%20%20%20%3Cdiv%20class%3D%22folium-map%22%20id%3D%22map_e490de6117814b52a49bea036b562a55%22%20%3E%3C/div%3E%0A%20%20%20%20%20%20%20%20%0A%3C/body%3E%0A%3Cscript%3E%20%20%20%20%0A%20%20%20%20%0A%20%20%20%20%20%20%20%20%20%20%20%20var%20map_e490de6117814b52a49bea036b562a55%20%3D%20L.map%28%0A%20%20%20%20%20%20%20%20%20%20%20%20%20%20%20%20%22map_e490de6117814b52a49bea036b562a55%22%2C%0A%20%20%20%20%20%20%20%20%20%20%20%20%20%20%20%20%7B%0A%20%20%20%20%20%20%20%20%20%20%20%20%20%20%20%20%20%20%20%20center%3A%20%5B1.4419683%2C%2038.4313975%5D%2C%0A%20%20%20%20%20%20%20%20%20%20%20%20%20%20%20%20%20%20%20%20crs%3A%20L.CRS.EPSG3857%2C%0A%20%20%20%20%20%20%20%20%20%20%20%20%20%20%20%20%20%20%20%20zoom%3A%206%2C%0A%20%20%20%20%20%20%20%20%20%20%20%20%20%20%20%20%20%20%20%20zoomControl%3A%20true%2C%0A%20%20%20%20%20%20%20%20%20%20%20%20%20%20%20%20%20%20%20%20preferCanvas%3A%20false%2C%0A%20%20%20%20%20%20%20%20%20%20%20%20%20%20%20%20%7D%0A%20%20%20%20%20%20%20%20%20%20%20%20%29%3B%0A%0A%20%20%20%20%20%20%20%20%20%20%20%20%0A%0A%20%20%20%20%20%20%20%20%0A%20%20%20%20%0A%20%20%20%20%20%20%20%20%20%20%20%20var%20tile_layer_30e1f72d04984e58a031f762943a15e5%20%3D%20L.tileLayer%28%0A%20%20%20%20%20%20%20%20%20%20%20%20%20%20%20%20%22https%3A//%7Bs%7D.tile.openstreetmap.org/%7Bz%7D/%7Bx%7D/%7By%7D.png%22%2C%0A%20%20%20%20%20%20%20%20%20%20%20%20%20%20%20%20%7B%22attribution%22%3A%20%22Data%20by%20%5Cu0026copy%3B%20%5Cu003ca%20href%3D%5C%22http%3A//openstreetmap.org%5C%22%5Cu003eOpenStreetMap%5Cu003c/a%5Cu003e%2C%20under%20%5Cu003ca%20href%3D%5C%22http%3A//www.openstreetmap.org/copyright%5C%22%5Cu003eODbL%5Cu003c/a%5Cu003e.%22%2C%20%22detectRetina%22%3A%20false%2C%20%22maxNativeZoom%22%3A%2018%2C%20%22maxZoom%22%3A%2018%2C%20%22minZoom%22%3A%200%2C%20%22noWrap%22%3A%20false%2C%20%22opacity%22%3A%201%2C%20%22subdomains%22%3A%20%22abc%22%2C%20%22tms%22%3A%20false%7D%0A%20%20%20%20%20%20%20%20%20%20%20%20%29.addTo%28map_e490de6117814b52a49bea036b562a55%29%3B%0A%20%20%20%20%20%20%20%20%0A%20%20%20%20%0A%20%20%20%20%20%20%20%20%20%20%20%20var%20marker_7fe4b2a8b6774296bb263d04ae27422b%20%3D%20L.marker%28%0A%20%20%20%20%20%20%20%20%20%20%20%20%20%20%20%20%5B-0.1029109%2C%2034.7541761%5D%2C%0A%20%20%20%20%20%20%20%20%20%20%20%20%20%20%20%20%7B%7D%0A%20%20%20%20%20%20%20%20%20%20%20%20%29.addTo%28map_e490de6117814b52a49bea036b562a55%29%3B%0A%20%20%20%20%20%20%20%20%0A%20%20%20%20%0A%20%20%20%20%20%20%20%20%20%20%20%20var%20icon_e3aabbd2805d4f3b9d0ec67ff7e0f2c6%20%3D%20L.AwesomeMarkers.icon%28%0A%20%20%20%20%20%20%20%20%20%20%20%20%20%20%20%20%7B%22extraClasses%22%3A%20%22fa-rotate-0%22%2C%20%22icon%22%3A%20%22info-sign%22%2C%20%22iconColor%22%3A%20%22white%22%2C%20%22markerColor%22%3A%20%22blue%22%2C%20%22prefix%22%3A%20%22glyphicon%22%7D%0A%20%20%20%20%20%20%20%20%20%20%20%20%29%3B%0A%20%20%20%20%20%20%20%20%20%20%20%20marker_7fe4b2a8b6774296bb263d04ae27422b.setIcon%28icon_e3aabbd2805d4f3b9d0ec67ff7e0f2c6%29%3B%0A%20%20%20%20%20%20%20%20%0A%20%20%20%20%0A%20%20%20%20%20%20%20%20var%20popup_d60fd70032944fcd938e0492c4ed957a%20%3D%20L.popup%28%7B%22maxWidth%22%3A%20%22100%25%22%7D%29%3B%0A%0A%20%20%20%20%20%20%20%20%0A%20%20%20%20%20%20%20%20%20%20%20%20var%20html_5963df7f0fc84c2f8765e3f764e5ab95%20%3D%20%24%28%60%3Cdiv%20id%3D%22html_5963df7f0fc84c2f8765e3f764e5ab95%22%20style%3D%22width%3A%20100.0%25%3B%20height%3A%20100.0%25%3B%22%3EKisumu%3C/div%3E%60%29%5B0%5D%3B%0A%20%20%20%20%20%20%20%20%20%20%20%20popup_d60fd70032944fcd938e0492c4ed957a.setContent%28html_5963df7f0fc84c2f8765e3f764e5ab95%29%3B%0A%20%20%20%20%20%20%20%20%0A%0A%20%20%20%20%20%20%20%20marker_7fe4b2a8b6774296bb263d04ae27422b.bindPopup%28popup_d60fd70032944fcd938e0492c4ed957a%29%0A%20%20%20%20%20%20%20%20%3B%0A%0A%20%20%20%20%20%20%20%20%0A%20%20%20%20%0A%20%20%20%20%0A%20%20%20%20%20%20%20%20%20%20%20%20var%20marker_64cc3f575af848f69aadb9033f483e63%20%3D%20L.marker%28%0A%20%20%20%20%20%20%20%20%20%20%20%20%20%20%20%20%5B0.5198329%2C%2035.2715481%5D%2C%0A%20%20%20%20%20%20%20%20%20%20%20%20%20%20%20%20%7B%7D%0A%20%20%20%20%20%20%20%20%20%20%20%20%29.addTo%28map_e490de6117814b52a49bea036b562a55%29%3B%0A%20%20%20%20%20%20%20%20%0A%20%20%20%20%0A%20%20%20%20%20%20%20%20%20%20%20%20var%20icon_1670c5dd1f514104aba797b1b08cdc72%20%3D%20L.AwesomeMarkers.icon%28%0A%20%20%20%20%20%20%20%20%20%20%20%20%20%20%20%20%7B%22extraClasses%22%3A%20%22fa-rotate-0%22%2C%20%22icon%22%3A%20%22info-sign%22%2C%20%22iconColor%22%3A%20%22white%22%2C%20%22markerColor%22%3A%20%22blue%22%2C%20%22prefix%22%3A%20%22glyphicon%22%7D%0A%20%20%20%20%20%20%20%20%20%20%20%20%29%3B%0A%20%20%20%20%20%20%20%20%20%20%20%20marker_64cc3f575af848f69aadb9033f483e63.setIcon%28icon_1670c5dd1f514104aba797b1b08cdc72%29%3B%0A%20%20%20%20%20%20%20%20%0A%20%20%20%20%0A%20%20%20%20%20%20%20%20var%20popup_b9084156dcf04280b158c6c1987d080b%20%3D%20L.popup%28%7B%22maxWidth%22%3A%20%22100%25%22%7D%29%3B%0A%0A%20%20%20%20%20%20%20%20%0A%20%20%20%20%20%20%20%20%20%20%20%20var%20html_5e8fce5719534446a75d3f1283893fb9%20%3D%20%24%28%60%3Cdiv%20id%3D%22html_5e8fce5719534446a75d3f1283893fb9%22%20style%3D%22width%3A%20100.0%25%3B%20height%3A%20100.0%25%3B%22%3EEldoret%3C/div%3E%60%29%5B0%5D%3B%0A%20%20%20%20%20%20%20%20%20%20%20%20popup_b9084156dcf04280b158c6c1987d080b.setContent%28html_5e8fce5719534446a75d3f1283893fb9%29%3B%0A%20%20%20%20%20%20%20%20%0A%0A%20%20%20%20%20%20%20%20marker_64cc3f575af848f69aadb9033f483e63.bindPopup%28popup_b9084156dcf04280b158c6c1987d080b%29%0A%20%20%20%20%20%20%20%20%3B%0A%0A%20%20%20%20%20%20%20%20%0A%20%20%20%20%0A%20%20%20%20%0A%20%20%20%20%20%20%20%20%20%20%20%20var%20marker_99b1ae1efac94d76a83770ee50a698f6%20%3D%20L.marker%28%0A%20%20%20%20%20%20%20%20%20%20%20%20%20%20%20%20%5B-0.2802724%2C%2036.0712048%5D%2C%0A%20%20%20%20%20%20%20%20%20%20%20%20%20%20%20%20%7B%7D%0A%20%20%20%20%20%20%20%20%20%20%20%20%29.addTo%28map_e490de6117814b52a49bea036b562a55%29%3B%0A%20%20%20%20%20%20%20%20%0A%20%20%20%20%0A%20%20%20%20%20%20%20%20%20%20%20%20var%20icon_ba1befe7542f4cecb79e07a6209ad705%20%3D%20L.AwesomeMarkers.icon%28%0A%20%20%20%20%20%20%20%20%20%20%20%20%20%20%20%20%7B%22extraClasses%22%3A%20%22fa-rotate-0%22%2C%20%22icon%22%3A%20%22info-sign%22%2C%20%22iconColor%22%3A%20%22white%22%2C%20%22markerColor%22%3A%20%22blue%22%2C%20%22prefix%22%3A%20%22glyphicon%22%7D%0A%20%20%20%20%20%20%20%20%20%20%20%20%29%3B%0A%20%20%20%20%20%20%20%20%20%20%20%20marker_99b1ae1efac94d76a83770ee50a698f6.setIcon%28icon_ba1befe7542f4cecb79e07a6209ad705%29%3B%0A%20%20%20%20%20%20%20%20%0A%20%20%20%20%0A%20%20%20%20%20%20%20%20var%20popup_5512fcd991d9477cbdd7537dfc020db8%20%3D%20L.popup%28%7B%22maxWidth%22%3A%20%22100%25%22%7D%29%3B%0A%0A%20%20%20%20%20%20%20%20%0A%20%20%20%20%20%20%20%20%20%20%20%20var%20html_890803b5919d474f99072a80a1440684%20%3D%20%24%28%60%3Cdiv%20id%3D%22html_890803b5919d474f99072a80a1440684%22%20style%3D%22width%3A%20100.0%25%3B%20height%3A%20100.0%25%3B%22%3ENakuru%3C/div%3E%60%29%5B0%5D%3B%0A%20%20%20%20%20%20%20%20%20%20%20%20popup_5512fcd991d9477cbdd7537dfc020db8.setContent%28html_890803b5919d474f99072a80a1440684%29%3B%0A%20%20%20%20%20%20%20%20%0A%0A%20%20%20%20%20%20%20%20marker_99b1ae1efac94d76a83770ee50a698f6.bindPopup%28popup_5512fcd991d9477cbdd7537dfc020db8%29%0A%20%20%20%20%20%20%20%20%3B%0A%0A%20%20%20%20%20%20%20%20%0A%20%20%20%20%0A%20%20%20%20%0A%20%20%20%20%20%20%20%20%20%20%20%20var%20marker_eeec58d05e5b4b6fbd49bdc9c202cd08%20%3D%20L.marker%28%0A%20%20%20%20%20%20%20%20%20%20%20%20%20%20%20%20%5B-1.3031689499999999%2C%2036.826061224105075%5D%2C%0A%20%20%20%20%20%20%20%20%20%20%20%20%20%20%20%20%7B%7D%0A%20%20%20%20%20%20%20%20%20%20%20%20%29.addTo%28map_e490de6117814b52a49bea036b562a55%29%3B%0A%20%20%20%20%20%20%20%20%0A%20%20%20%20%0A%20%20%20%20%20%20%20%20%20%20%20%20var%20icon_a271f79a98b64160b14d96a263534511%20%3D%20L.AwesomeMarkers.icon%28%0A%20%20%20%20%20%20%20%20%20%20%20%20%20%20%20%20%7B%22extraClasses%22%3A%20%22fa-rotate-0%22%2C%20%22icon%22%3A%20%22info-sign%22%2C%20%22iconColor%22%3A%20%22white%22%2C%20%22markerColor%22%3A%20%22blue%22%2C%20%22prefix%22%3A%20%22glyphicon%22%7D%0A%20%20%20%20%20%20%20%20%20%20%20%20%29%3B%0A%20%20%20%20%20%20%20%20%20%20%20%20marker_eeec58d05e5b4b6fbd49bdc9c202cd08.setIcon%28icon_a271f79a98b64160b14d96a263534511%29%3B%0A%20%20%20%20%20%20%20%20%0A%20%20%20%20%0A%20%20%20%20%20%20%20%20var%20popup_d6975fadd18e46168ceaff06f215273a%20%3D%20L.popup%28%7B%22maxWidth%22%3A%20%22100%25%22%7D%29%3B%0A%0A%20%20%20%20%20%20%20%20%0A%20%20%20%20%20%20%20%20%20%20%20%20var%20html_21c6b07157544ebd9a55f343ed7b8326%20%3D%20%24%28%60%3Cdiv%20id%3D%22html_21c6b07157544ebd9a55f343ed7b8326%22%20style%3D%22width%3A%20100.0%25%3B%20height%3A%20100.0%25%3B%22%3ENairobi%3C/div%3E%60%29%5B0%5D%3B%0A%20%20%20%20%20%20%20%20%20%20%20%20popup_d6975fadd18e46168ceaff06f215273a.setContent%28html_21c6b07157544ebd9a55f343ed7b8326%29%3B%0A%20%20%20%20%20%20%20%20%0A%0A%20%20%20%20%20%20%20%20marker_eeec58d05e5b4b6fbd49bdc9c202cd08.bindPopup%28popup_d6975fadd18e46168ceaff06f215273a%29%0A%20%20%20%20%20%20%20%20%3B%0A%0A%20%20%20%20%20%20%20%20%0A%20%20%20%20%0A%20%20%20%20%0A%20%20%20%20%20%20%20%20%20%20%20%20var%20marker_ae09ebbcaec64b99955f577fcb7acac9%20%3D%20L.marker%28%0A%20%20%20%20%20%20%20%20%20%20%20%20%20%20%20%20%5B-1.036648%2C%2037.077523%5D%2C%0A%20%20%20%20%20%20%20%20%20%20%20%20%20%20%20%20%7B%7D%0A%20%20%20%20%20%20%20%20%20%20%20%20%29.addTo%28map_e490de6117814b52a49bea036b562a55%29%3B%0A%20%20%20%20%20%20%20%20%0A%20%20%20%20%0A%20%20%20%20%20%20%20%20%20%20%20%20var%20icon_947697b8d36d47c9b313f4bcebf2e671%20%3D%20L.AwesomeMarkers.icon%28%0A%20%20%20%20%20%20%20%20%20%20%20%20%20%20%20%20%7B%22extraClasses%22%3A%20%22fa-rotate-0%22%2C%20%22icon%22%3A%20%22info-sign%22%2C%20%22iconColor%22%3A%20%22white%22%2C%20%22markerColor%22%3A%20%22blue%22%2C%20%22prefix%22%3A%20%22glyphicon%22%7D%0A%20%20%20%20%20%20%20%20%20%20%20%20%29%3B%0A%20%20%20%20%20%20%20%20%20%20%20%20marker_ae09ebbcaec64b99955f577fcb7acac9.setIcon%28icon_947697b8d36d47c9b313f4bcebf2e671%29%3B%0A%20%20%20%20%20%20%20%20%0A%20%20%20%20%0A%20%20%20%20%20%20%20%20var%20popup_eccdcd689f0e4845a0e9ae358a352295%20%3D%20L.popup%28%7B%22maxWidth%22%3A%20%22100%25%22%7D%29%3B%0A%0A%20%20%20%20%20%20%20%20%0A%20%20%20%20%20%20%20%20%20%20%20%20var%20html_277e4860273d4709b538dfcf671f246a%20%3D%20%24%28%60%3Cdiv%20id%3D%22html_277e4860273d4709b538dfcf671f246a%22%20style%3D%22width%3A%20100.0%25%3B%20height%3A%20100.0%25%3B%22%3EThika%3C/div%3E%60%29%5B0%5D%3B%0A%20%20%20%20%20%20%20%20%20%20%20%20popup_eccdcd689f0e4845a0e9ae358a352295.setContent%28html_277e4860273d4709b538dfcf671f246a%29%3B%0A%20%20%20%20%20%20%20%20%0A%0A%20%20%20%20%20%20%20%20marker_ae09ebbcaec64b99955f577fcb7acac9.bindPopup%28popup_eccdcd689f0e4845a0e9ae358a352295%29%0A%20%20%20%20%20%20%20%20%3B%0A%0A%20%20%20%20%20%20%20%20%0A%20%20%20%20%0A%20%20%20%20%0A%20%20%20%20%20%20%20%20%20%20%20%20var%20marker_8ed994f8b61a405ca85b3cfa59c3c70f%20%3D%20L.marker%28%0A%20%20%20%20%20%20%20%20%20%20%20%20%20%20%20%20%5B-4.05052%2C%2039.667169%5D%2C%0A%20%20%20%20%20%20%20%20%20%20%20%20%20%20%20%20%7B%7D%0A%20%20%20%20%20%20%20%20%20%20%20%20%29.addTo%28map_e490de6117814b52a49bea036b562a55%29%3B%0A%20%20%20%20%20%20%20%20%0A%20%20%20%20%0A%20%20%20%20%20%20%20%20%20%20%20%20var%20icon_af486c4a09ab4626b9bafc57fd44ba70%20%3D%20L.AwesomeMarkers.icon%28%0A%20%20%20%20%20%20%20%20%20%20%20%20%20%20%20%20%7B%22extraClasses%22%3A%20%22fa-rotate-0%22%2C%20%22icon%22%3A%20%22info-sign%22%2C%20%22iconColor%22%3A%20%22white%22%2C%20%22markerColor%22%3A%20%22blue%22%2C%20%22prefix%22%3A%20%22glyphicon%22%7D%0A%20%20%20%20%20%20%20%20%20%20%20%20%29%3B%0A%20%20%20%20%20%20%20%20%20%20%20%20marker_8ed994f8b61a405ca85b3cfa59c3c70f.setIcon%28icon_af486c4a09ab4626b9bafc57fd44ba70%29%3B%0A%20%20%20%20%20%20%20%20%0A%20%20%20%20%0A%20%20%20%20%20%20%20%20var%20popup_e007930e1984400bb1f2d435ee2f2ffa%20%3D%20L.popup%28%7B%22maxWidth%22%3A%20%22100%25%22%7D%29%3B%0A%0A%20%20%20%20%20%20%20%20%0A%20%20%20%20%20%20%20%20%20%20%20%20var%20html_545d8f9fb9fd47a1a932d704ebc2975f%20%3D%20%24%28%60%3Cdiv%20id%3D%22html_545d8f9fb9fd47a1a932d704ebc2975f%22%20style%3D%22width%3A%20100.0%25%3B%20height%3A%20100.0%25%3B%22%3EMombasa%3C/div%3E%60%29%5B0%5D%3B%0A%20%20%20%20%20%20%20%20%20%20%20%20popup_e007930e1984400bb1f2d435ee2f2ffa.setContent%28html_545d8f9fb9fd47a1a932d704ebc2975f%29%3B%0A%20%20%20%20%20%20%20%20%0A%0A%20%20%20%20%20%20%20%20marker_8ed994f8b61a405ca85b3cfa59c3c70f.bindPopup%28popup_e007930e1984400bb1f2d435ee2f2ffa%29%0A%20%20%20%20%20%20%20%20%3B%0A%0A%20%20%20%20%20%20%20%20%0A%20%20%20%20%0A%20%20%20%20%0A%20%20%20%20%20%20%20%20%20%20%20%20var%20poly_line_7426afb9f0f444e9b5bcaa33cba9ca40%20%3D%20L.polyline%28%0A%20%20%20%20%20%20%20%20%20%20%20%20%20%20%20%20%5B%5B-1.036648%2C%2037.077523%5D%5D%2C%0A%20%20%20%20%20%20%20%20%20%20%20%20%20%20%20%20%7B%22bubblingMouseEvents%22%3A%20true%2C%20%22color%22%3A%20%22%233388ff%22%2C%20%22dashArray%22%3A%20null%2C%20%22dashOffset%22%3A%20null%2C%20%22fill%22%3A%20false%2C%20%22fillColor%22%3A%20%22%233388ff%22%2C%20%22fillOpacity%22%3A%200.2%2C%20%22fillRule%22%3A%20%22evenodd%22%2C%20%22lineCap%22%3A%20%22round%22%2C%20%22lineJoin%22%3A%20%22round%22%2C%20%22noClip%22%3A%20false%2C%20%22opacity%22%3A%201.0%2C%20%22smoothFactor%22%3A%201.0%2C%20%22stroke%22%3A%20true%2C%20%22weight%22%3A%203%7D%0A%20%20%20%20%20%20%20%20%20%20%20%20%29.addTo%28map_e490de6117814b52a49bea036b562a55%29%3B%0A%20%20%20%20%20%20%20%20%0A%20%20%20%20%0A%20%20%20%20%20%20%20%20%20%20%20%20var%20poly_line_1be350556e694952b37cdd07fb9595b4%20%3D%20L.polyline%28%0A%20%20%20%20%20%20%20%20%20%20%20%20%20%20%20%20%5B%5B-1.036648%2C%2037.077523%5D%2C%20%5B-0.2802724%2C%2036.0712048%5D%2C%20%5B-0.1029109%2C%2034.7541761%5D%5D%2C%0A%20%20%20%20%20%20%20%20%20%20%20%20%20%20%20%20%7B%22bubblingMouseEvents%22%3A%20true%2C%20%22color%22%3A%20%22%233388ff%22%2C%20%22dashArray%22%3A%20null%2C%20%22dashOffset%22%3A%20null%2C%20%22fill%22%3A%20false%2C%20%22fillColor%22%3A%20%22%233388ff%22%2C%20%22fillOpacity%22%3A%200.2%2C%20%22fillRule%22%3A%20%22evenodd%22%2C%20%22lineCap%22%3A%20%22round%22%2C%20%22lineJoin%22%3A%20%22round%22%2C%20%22noClip%22%3A%20false%2C%20%22opacity%22%3A%201.0%2C%20%22smoothFactor%22%3A%201.0%2C%20%22stroke%22%3A%20true%2C%20%22weight%22%3A%203%7D%0A%20%20%20%20%20%20%20%20%20%20%20%20%29.addTo%28map_e490de6117814b52a49bea036b562a55%29%3B%0A%20%20%20%20%20%20%20%20%0A%3C/script%3E onload=\"this.contentDocument.open();this.contentDocument.write(    decodeURIComponent(this.getAttribute('data-html')));this.contentDocument.close();\" allowfullscreen webkitallowfullscreen mozallowfullscreen></iframe></div></div>"
      ],
      "text/plain": [
       "<folium.folium.Map at 0x7f0b2402bca0>"
      ]
     },
     "execution_count": 11,
     "metadata": {},
     "output_type": "execute_result"
    }
   ],
   "source": [
    "path = None\n",
    "# print(town.vertices.index(list(filter(lambda n: n.value == start, graph.vertices)))[0])\n",
    "def town_index(town_name, towns):\n",
    "    return graph.vertices.index(list(filter(lambda n: n.value == town_name, towns.vertices))[0])\n",
    "                                    \n",
    "if algo == \"Breadth First Search\":\n",
    "    path = breadth_first_search(graph.vertices[town_index(goal, graph)], graph, town_index(start, graph))\n",
    "    print(path)\n",
    "    visualize(list(map(lambda n: n.value, path)))\n",
    "    print(list(map(lambda n: n.value, path)))\n",
    "elif algo == \"Depth First Search\":\n",
    "    path = depth_first_search(graph.vertices[town_index(goal, graph)], graph, town_index(start, graph))\n",
    "    print(path)\n",
    "    visualize(list(map(lambda n: n.value, path)))\n",
    "else:\n",
    "    came_from, cost = a_star_search(graph, graph.vertices[town_index(goal, graph)], town_index(start, graph))\n",
    "    print(came_from)\n",
    "    path = reconstruct_path(came_from, graph.vertices[town_index(start, graph)].value, graph.vertices[town_index(goal, graph)].value)\n",
    "    print(path)\n",
    "    visualize(list(filter(lambda n: not isinstance(n, int), path)))\n",
    "    \n",
    "general_map"
   ]
  },
  {
   "cell_type": "code",
   "execution_count": null,
   "id": "a701746b-83df-4db0-ad79-6bf8a317b034",
   "metadata": {},
   "outputs": [],
   "source": []
  }
 ],
 "metadata": {
  "kernelspec": {
   "display_name": "Python 3 (ipykernel)",
   "language": "python",
   "name": "python3"
  },
  "language_info": {
   "codemirror_mode": {
    "name": "ipython",
    "version": 3
   },
   "file_extension": ".py",
   "mimetype": "text/x-python",
   "name": "python",
   "nbconvert_exporter": "python",
   "pygments_lexer": "ipython3",
   "version": "3.9.6"
  }
 },
 "nbformat": 4,
 "nbformat_minor": 5
}
